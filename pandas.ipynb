{
    "cells": [
        {
            "cell_type": "code",
            "execution_count": 51,
            "source": [
                "import pandas as pd\r\n",
                "import numpy as np\r\n",
                "a = np.arange(0,10).reshape(5,-1)\r\n",
                "\r\n",
                "df = pd.DataFrame(a,index=list('ABCDE'),columns=['1','2'])\r\n",
                "print(df)\r\n",
                "\r\n",
                "data = {'col1':[1,2,3],'col2':[4,5,6],'col3':[7,8,9]}\r\n",
                "df1 = pd.DataFrame(data,index=['p1','p2','p3'])\r\n",
                "print(df1)\r\n",
                "\r\n",
                "display(df['1'][0])"
            ],
            "outputs": [
                {
                    "output_type": "stream",
                    "name": "stdout",
                    "text": [
                        "   1  2\n",
                        "A  0  1\n",
                        "B  2  3\n",
                        "C  4  5\n",
                        "D  6  7\n",
                        "E  8  9\n",
                        "    col1  col2  col3\n",
                        "p1     1     4     7\n",
                        "p2     2     5     8\n",
                        "p3     3     6     9\n"
                    ]
                },
                {
                    "output_type": "display_data",
                    "data": {
                        "text/plain": [
                            "0"
                        ]
                    },
                    "metadata": {}
                }
            ],
            "metadata": {}
        },
        {
            "cell_type": "code",
            "execution_count": null,
            "source": [],
            "outputs": [],
            "metadata": {}
        },
        {
            "cell_type": "code",
            "execution_count": null,
            "source": [],
            "outputs": [],
            "metadata": {}
        }
    ],
    "metadata": {
        "orig_nbformat": 4,
        "language_info": {
            "name": "python",
            "version": "3.7.4",
            "mimetype": "text/x-python",
            "codemirror_mode": {
                "name": "ipython",
                "version": 3
            },
            "pygments_lexer": "ipython3",
            "nbconvert_exporter": "python",
            "file_extension": ".py"
        },
        "kernelspec": {
            "name": "python3",
            "display_name": "Python 3.7.4 64-bit ('base': conda)"
        },
        "interpreter": {
            "hash": "3d7ae81bd4269cea30be3a7bd3718820557958b837614ab9e83a174814ebfe15"
        }
    },
    "nbformat": 4,
    "nbformat_minor": 2
}